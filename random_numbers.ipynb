{
 "cells": [
  {
   "cell_type": "code",
   "execution_count": 24,
   "id": "ff8cee58",
   "metadata": {},
   "outputs": [],
   "source": [
    "# Import the random module.\n",
    "import random"
   ]
  },
  {
   "cell_type": "code",
   "execution_count": 25,
   "id": "71b8f8f3",
   "metadata": {},
   "outputs": [
    {
     "data": {
      "text/plain": [
       "-86"
      ]
     },
     "execution_count": 25,
     "metadata": {},
     "output_type": "execute_result"
    }
   ],
   "source": [
    "random.randint(-90, 90)"
   ]
  },
  {
   "cell_type": "code",
   "execution_count": 26,
   "id": "cdd0be61",
   "metadata": {},
   "outputs": [
    {
     "data": {
      "text/plain": [
       "0.56374757851581"
      ]
     },
     "execution_count": 26,
     "metadata": {},
     "output_type": "execute_result"
    }
   ],
   "source": [
    "random.random()"
   ]
  },
  {
   "cell_type": "code",
   "execution_count": 27,
   "id": "fa234846",
   "metadata": {},
   "outputs": [],
   "source": [
    "x = 1\n",
    "latitudes = []\n",
    "while x < 11:\n",
    "    random_lat = random.randint(-90, 89) + random.random()\n",
    "    latitudes.append(random_lat)\n",
    "    x += 1"
   ]
  },
  {
   "cell_type": "code",
   "execution_count": 28,
   "id": "2c506e2f",
   "metadata": {},
   "outputs": [
    {
     "data": {
      "text/plain": [
       "[-18.437853092046556,\n",
       " -37.81809739247928,\n",
       " -69.61153900126226,\n",
       " -60.91304482417918,\n",
       " 0.07985801307758533,\n",
       " -7.95948024800136,\n",
       " -7.85277947217985,\n",
       " 40.3275169806218,\n",
       " 48.28212574272567,\n",
       " -63.267947637377084]"
      ]
     },
     "execution_count": 28,
     "metadata": {},
     "output_type": "execute_result"
    }
   ],
   "source": [
    "latitudes"
   ]
  },
  {
   "cell_type": "code",
   "execution_count": 29,
   "id": "5e8cf62a",
   "metadata": {},
   "outputs": [
    {
     "data": {
      "text/plain": [
       "-74"
      ]
     },
     "execution_count": 29,
     "metadata": {},
     "output_type": "execute_result"
    }
   ],
   "source": [
    "random.randrange(-90, 90, step=1)"
   ]
  },
  {
   "cell_type": "code",
   "execution_count": 30,
   "id": "0554e611",
   "metadata": {},
   "outputs": [
    {
     "data": {
      "text/plain": [
       "-18"
      ]
     },
     "execution_count": 30,
     "metadata": {},
     "output_type": "execute_result"
    }
   ],
   "source": [
    "random.randrange(-90, 90, step=3)"
   ]
  },
  {
   "cell_type": "code",
   "execution_count": 31,
   "id": "df05e2df",
   "metadata": {},
   "outputs": [
    {
     "data": {
      "text/plain": [
       "29.119841061181063"
      ]
     },
     "execution_count": 31,
     "metadata": {},
     "output_type": "execute_result"
    }
   ],
   "source": [
    "random.uniform(-90, 90)"
   ]
  },
  {
   "cell_type": "code",
   "execution_count": 32,
   "id": "6802316a",
   "metadata": {},
   "outputs": [],
   "source": [
    "# Import the NumPy module.\n",
    "import numpy as np"
   ]
  },
  {
   "cell_type": "code",
   "execution_count": 33,
   "id": "8bbcc725",
   "metadata": {},
   "outputs": [
    {
     "data": {
      "text/plain": [
       "69.4320426768339"
      ]
     },
     "execution_count": 33,
     "metadata": {},
     "output_type": "execute_result"
    }
   ],
   "source": [
    "np.random.uniform(-90.000, 90.000)"
   ]
  },
  {
   "cell_type": "code",
   "execution_count": 34,
   "id": "b044973d",
   "metadata": {},
   "outputs": [
    {
     "data": {
      "text/plain": [
       "array([-14.81382555, -45.57587811, -68.52303944, -53.00813781,\n",
       "       -47.96199714,  65.54662742, -69.55171349,  77.89524945,\n",
       "        53.84183866,  12.12854301,  29.12554503, -22.90221165,\n",
       "       -15.98225895,  34.81964695, -22.96171465, -73.05234501,\n",
       "        54.41852094, -11.71741314,  49.36745837,  28.98285613,\n",
       "       -79.78781196, -19.75506166, -29.55723572, -22.87589282,\n",
       "       -31.35604061, -31.64766183, -39.81428485,  -5.58674152,\n",
       "        42.34904884,   9.50993327,  46.98455295, -47.56626511,\n",
       "        49.24826353, -48.7712219 ,  26.55513507, -30.95265371,\n",
       "       -53.73979667,  65.61393375,  16.63393407, -12.21690027,\n",
       "        39.84074736,  66.47666335, -76.0023023 , -14.74281065,\n",
       "        79.06399171, -19.25732673, -44.13692213,  42.6464913 ,\n",
       "        10.71938241, -51.09284831])"
      ]
     },
     "execution_count": 34,
     "metadata": {},
     "output_type": "execute_result"
    }
   ],
   "source": [
    "np.random.uniform(-90.000, 90.000, size=50)"
   ]
  },
  {
   "cell_type": "code",
   "execution_count": 35,
   "id": "6eb8ff04",
   "metadata": {},
   "outputs": [],
   "source": [
    "# Import timeit.\n",
    "import timeit"
   ]
  },
  {
   "cell_type": "code",
   "execution_count": 36,
   "id": "8fa654a6",
   "metadata": {},
   "outputs": [
    {
     "name": "stdout",
     "output_type": "stream",
     "text": [
      "14.1 µs ± 337 ns per loop (mean ± std. dev. of 7 runs, 100000 loops each)\n"
     ]
    }
   ],
   "source": [
    "%timeit np.random.uniform(-90.000, 90.000, size=1500)"
   ]
  },
  {
   "cell_type": "code",
   "execution_count": 40,
   "id": "63e067d0",
   "metadata": {},
   "outputs": [
    {
     "name": "stdout",
     "output_type": "stream",
     "text": [
      "1.87 ms ± 62.2 µs per loop (mean ± std. dev. of 7 runs, 1000 loops each)\n"
     ]
    }
   ],
   "source": [
    "def latitudes(size):\n",
    "    latitudes = []\n",
    "    x = 0\n",
    "    while x < (size):\n",
    "        random_lat = random.randint(-90, 90) + random.random()\n",
    "        latitudes.append(random_lat)\n",
    "        x += 1\n",
    "    return latitudes\n",
    "# Call the function with 1500.\n",
    "%timeit latitudes(1500)"
   ]
  },
  {
   "cell_type": "code",
   "execution_count": null,
   "id": "6f52f88c",
   "metadata": {},
   "outputs": [],
   "source": []
  }
 ],
 "metadata": {
  "kernelspec": {
   "display_name": "Python 3 (ipykernel)",
   "language": "python",
   "name": "python3"
  },
  "language_info": {
   "codemirror_mode": {
    "name": "ipython",
    "version": 3
   },
   "file_extension": ".py",
   "mimetype": "text/x-python",
   "name": "python",
   "nbconvert_exporter": "python",
   "pygments_lexer": "ipython3",
   "version": "3.7.13"
  }
 },
 "nbformat": 4,
 "nbformat_minor": 5
}
